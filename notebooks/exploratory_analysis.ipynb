# Jupyter Notebook for Exploratory Data Analysis
import pandas as pd
import matplotlib.pyplot as plt

# Load preprocessed data
data = pd.read_csv('../data/preprocessed_data.csv')

# Exploratory analysis
print("Data Head:")
print(data.head())

# Plot closing price
plt.figure(figsize=(12, 6))
plt.plot(data['Date'], data['Close'], label='Close Price')
plt.title('Market Closing Prices')
plt.xlabel('Date')
plt.ylabel('Price')
plt.legend()
plt.grid()
plt.show()

# Analyze feature distributions
data[['Price_Change', 'Volatility', 'Momentum']].hist(bins=50, figsize=(12, 8))
plt.suptitle('Feature Distributions')
plt.show()
